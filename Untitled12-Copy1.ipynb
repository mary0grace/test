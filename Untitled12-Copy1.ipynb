{
 "cells": [
  {
   "cell_type": "code",
   "execution_count": 5,
   "id": "a3120ef3",
   "metadata": {},
   "outputs": [
    {
     "data": {
      "image/png": "[encoded data removed]",
      "text/plain": [
       "<Figure size 432x288 with 1 Axes>"
      ]
     },
     "metadata": {
      "needs_background": "light"
     },
     "output_type": "display_data"
    }
   ],
   "source": [
    "import matplotlib.pyplot as plt\n",
    "import numpy as np\n",
    "\n",
    "\n",
    "def find_intersections(x, y, C):\n",
    "    # Contains numpy indexing tricks that can be hard to reproduce\n",
    "    # in the case where both functions are non-constants\n",
    "    ii, = np.nonzero((y[1:]-C)*(y[:-1]-C) < 0.)  # intersection indices\n",
    "    x_intersections = x[ii] + (C - y[ii])/(y[1+ii] - y[ii])*(x[1+ii] - x[ii])\n",
    "    y_intersections = C * np.ones(len(ii))\n",
    "    return x_intersections, y_intersections\n",
    "\n",
    "\n",
    "# parabolic data for example\n",
    "x1 = np.linspace(-2., 2)\n",
    "y1 = x1 ** 2\n",
    "\n",
    "C = 2.0\n",
    "x2 = np.asarray([min(x1), max(x1)])\n",
    "y2 = np.asarray([C, C])\n",
    "\n",
    "\n",
    "xint, yint = find_intersections(x1, y1, C)\n",
    "\n",
    "plt.figure()\n",
    "plt.plot(x1, y1)\n",
    "plt.plot(x2, y2)\n",
    "plt.plot(xint, yint, 'ro')\n",
    "plt.show()"
   ]
  },
  {
   "cell_type": "code",
   "execution_count": 12,
   "id": "097cda91",
   "metadata": {},
   "outputs": [
    {
     "name": "stdout",
     "output_type": "stream",
     "text": [
      "[-1.41386555  1.41386555]\n",
      "[2. 2.]\n",
      "[-2.         -1.91836735 -1.83673469 -1.75510204 -1.67346939 -1.59183673\n",
      " -1.51020408 -1.42857143 -1.34693878 -1.26530612 -1.18367347 -1.10204082\n",
      " -1.02040816 -0.93877551 -0.85714286 -0.7755102  -0.69387755 -0.6122449\n",
      " -0.53061224 -0.44897959 -0.36734694 -0.28571429 -0.20408163 -0.12244898\n",
      " -0.04081633  0.04081633  0.12244898  0.20408163  0.28571429  0.36734694\n",
      "  0.44897959  0.53061224  0.6122449   0.69387755  0.7755102   0.85714286\n",
      "  0.93877551  1.02040816  1.10204082  1.18367347  1.26530612  1.34693878\n",
      "  1.42857143  1.51020408  1.59183673  1.67346939  1.75510204  1.83673469\n",
      "  1.91836735  2.        ]\n",
      "[4.00000000e+00 3.68013328e+00 3.37359434e+00 3.08038317e+00\n",
      " 2.80049979e+00 2.53394419e+00 2.28071637e+00 2.04081633e+00\n",
      " 1.81424406e+00 1.60099958e+00 1.40108288e+00 1.21449396e+00\n",
      " 1.04123282e+00 8.81299459e-01 7.34693878e-01 6.01416077e-01\n",
      " 4.81466056e-01 3.74843815e-01 2.81549354e-01 2.01582674e-01\n",
      " 1.34943773e-01 8.16326531e-02 4.16493128e-02 1.49937526e-02\n",
      " 1.66597251e-03 1.66597251e-03 1.49937526e-02 4.16493128e-02\n",
      " 8.16326531e-02 1.34943773e-01 2.01582674e-01 2.81549354e-01\n",
      " 3.74843815e-01 4.81466056e-01 6.01416077e-01 7.34693878e-01\n",
      " 8.81299459e-01 1.04123282e+00 1.21449396e+00 1.40108288e+00\n",
      " 1.60099958e+00 1.81424406e+00 2.04081633e+00 2.28071637e+00\n",
      " 2.53394419e+00 2.80049979e+00 3.08038317e+00 3.37359434e+00\n",
      " 3.68013328e+00 4.00000000e+00]\n"
     ]
    }
   ],
   "source": [
    "print(xint)\n",
    "print(yint)\n",
    "print(x1)\n",
    "print(y1)"
   ]
  },
  {
   "cell_type": "code",
   "execution_count": null,
   "id": "ef070a95",
   "metadata": {},
   "outputs": [],
   "source": []
  }
 ],
 "metadata": {
  "kernelspec": {
   "display_name": "Python 3",
   "language": "python",
   "name": "python3"
  },
  "language_info": {
   "codemirror_mode": {
    "name": "ipython",
    "version": 3
   },
   "file_extension": ".py",
   "mimetype": "text/x-python",
   "name": "python",
   "nbconvert_exporter": "python",
   "pygments_lexer": "ipython3",
   "version": "3.8.8"
  }
 },
 "nbformat": 4,
 "nbformat_minor": 5
}
