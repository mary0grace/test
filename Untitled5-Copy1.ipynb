{
 "cells": [
  {
   "cell_type": "code",
   "execution_count": 6,
   "id": "3a1d34d9",
   "metadata": {},
   "outputs": [
    {
     "ename": "NameError",
     "evalue": "name 'θ' is not defined",
     "output_type": "error",
     "traceback": [
      "\u001b[1;31m---------------------------------------------------------------------------\u001b[0m",
      "\u001b[1;31mNameError\u001b[0m                                 Traceback (most recent call last)",
      "\u001b[1;32m<ipython-input-6-c309564dba55>\u001b[0m in \u001b[0;36m<module>\u001b[1;34m\u001b[0m\n\u001b[0;32m     33\u001b[0m \u001b[1;33m\u001b[0m\u001b[0m\n\u001b[0;32m     34\u001b[0m \u001b[0mget_ipython\u001b[0m\u001b[1;33m(\u001b[0m\u001b[1;33m)\u001b[0m\u001b[1;33m.\u001b[0m\u001b[0mrun_line_magic\u001b[0m\u001b[1;33m(\u001b[0m\u001b[1;34m'matplotlib'\u001b[0m\u001b[1;33m,\u001b[0m \u001b[1;34m'inline'\u001b[0m\u001b[1;33m)\u001b[0m\u001b[1;33m\u001b[0m\u001b[1;33m\u001b[0m\u001b[0m\n\u001b[1;32m---> 35\u001b[1;33m \u001b[0msym\u001b[0m\u001b[1;33m.\u001b[0m\u001b[0mplot\u001b[0m\u001b[1;33m(\u001b[0m\u001b[0mf1\u001b[0m\u001b[1;33m,\u001b[0m \u001b[1;33m(\u001b[0m\u001b[0mθ\u001b[0m\u001b[1;33m,\u001b[0m \u001b[1;33m-\u001b[0m\u001b[1;36m2\u001b[0m\u001b[1;33m,\u001b[0m \u001b[1;36m4\u001b[0m\u001b[1;33m)\u001b[0m\u001b[1;33m)\u001b[0m\u001b[1;33m;\u001b[0m\u001b[1;33m\u001b[0m\u001b[1;33m\u001b[0m\u001b[0m\n\u001b[0m\u001b[0;32m     36\u001b[0m \u001b[1;33m\u001b[0m\u001b[0m\n\u001b[0;32m     37\u001b[0m \u001b[1;33m\u001b[0m\u001b[0m\n",
      "\u001b[1;31mNameError\u001b[0m: name 'θ' is not defined"
     ]
    }
   ],
   "source": [
    "import math\n",
    "# Импортируем из SciPy функцию для численного определения\n",
    "# производной derivative\n",
    "from scipy.misc import derivative \n",
    "import pylab #пакет Matplotlib\n",
    "from matplotlib import mlab\n",
    "import sympy as sym # для нахождения производной\n",
    "\n",
    "#Объявление переменных:\n",
    "ε_AA = 238 # кал/моль\n",
    "σ_AA = 3.4 # Ангстрем - диаметр жёсткой сферы молекулы\n",
    "r = 2**(1/6)*σ_AA\n",
    "ε = 4*ε_AA*((σ_AA/r)**6-(σ_AA/r)**12)\n",
    "R = 2 # кал/(моль*К) - газовая постоянная для ...\n",
    "T_kr = 146.6 # К - критическая температура\n",
    "T = 100 # начальное значение температуры\n",
    "z_1 = 6\n",
    "z_2 = 12\n",
    "β = (R*T)**(-1)\n",
    "x = math.exp(-(R*T)**(-1)*ε)-1\n",
    "\n",
    "#Функция\n",
    "def f1(θ, T):\n",
    "    return θ*(1+2*θ*(math.exp(-(R*T)**(-1)*ε)-1)/(1+(math.exp(-(R*T)**(-1)*ε)-1)*(1-2*θ)+((1+(math.exp(-(R*T)**(-1)*ε)-1)*(1-2*θ))**2+4*(math.exp(-(R*T)**(-1)*ε)-1)*θ**2)**0.5))**z_1/(1-θ)\n",
    "\n",
    "# Производная заданной функции, найденная аналитически\n",
    "def f1_diff1(θ, T):\n",
    "    return sym.diff(f1, θ, 1)\n",
    "#Вторая производная\n",
    "def f1_diff2(θ, T):\n",
    "    return sym.diff(f1, θ, 2)\n",
    "\n",
    "\n",
    "%matplotlib inline\n",
    "sym.plot(f1, (θ, -2, 4));\n",
    "\n",
    "\n",
    "\n",
    "\n"
   ]
  },
  {
   "cell_type": "code",
   "execution_count": null,
   "id": "b51a5d9f",
   "metadata": {},
   "outputs": [],
   "source": [
    "\n",
    "'''h = 2 #шаг\n",
    "for i in range(100, 200, h):\n",
    "    T = i\n",
    "    if f1_diff1 == 0:\n",
    "        continue\n",
    "    else:\n",
    "        if f1_diff2 == 0:\n",
    "            continue\n",
    "        else:\n",
    "            solve_f1_diff2 = sym.solve(f1_diff2, θ)\n",
    "            if len(solve_f1_diff2) == 1:\n",
    "                T_krit = i\n",
    "                break\n",
    "            else:\n",
    "                T_under_krit = i\n",
    "                for k in range (i-h, i, 0.1):\n",
    "                    T = k\n",
    "                    solve_f1_diff2 = sym.solve(f1_diff2, θ)\n",
    "                    if solve_f1_diff2 == 0:\n",
    "                        continue\n",
    "                    elif len(solve_f1_diff2) == 1:\n",
    "                        T_krit = k\n",
    "                        break\n",
    "                    elif len(solve_f1_diff2) == 2:\n",
    "                        T_under_krit = k\n",
    "\n",
    "'''\n",
    "\n",
    "\n",
    "\n"
   ]
  },
  {
   "cell_type": "code",
   "execution_count": 54,
   "id": "c9ff190d",
   "metadata": {},
   "outputs": [
    {
     "ename": "NameError",
     "evalue": "name 'θ' is not defined",
     "output_type": "error",
     "traceback": [
      "\u001b[1;31m---------------------------------------------------------------------------\u001b[0m",
      "\u001b[1;31mNameError\u001b[0m                                 Traceback (most recent call last)",
      "\u001b[1;32m<ipython-input-54-cf4ae516dd52>\u001b[0m in \u001b[0;36m<module>\u001b[1;34m\u001b[0m\n\u001b[0;32m      8\u001b[0m             \u001b[1;32mcontinue\u001b[0m\u001b[1;33m\u001b[0m\u001b[1;33m\u001b[0m\u001b[0m\n\u001b[0;32m      9\u001b[0m         \u001b[1;32melse\u001b[0m\u001b[1;33m:\u001b[0m\u001b[1;33m\u001b[0m\u001b[1;33m\u001b[0m\u001b[0m\n\u001b[1;32m---> 10\u001b[1;33m             \u001b[0msolve_f1_diff2\u001b[0m \u001b[1;33m=\u001b[0m \u001b[0msym\u001b[0m\u001b[1;33m.\u001b[0m\u001b[0msolve\u001b[0m\u001b[1;33m(\u001b[0m\u001b[0mf1_diff2\u001b[0m\u001b[1;33m,\u001b[0m \u001b[0mθ\u001b[0m\u001b[1;33m)\u001b[0m\u001b[1;33m\u001b[0m\u001b[1;33m\u001b[0m\u001b[0m\n\u001b[0m\u001b[0;32m     11\u001b[0m             \u001b[1;32mif\u001b[0m \u001b[0mlen\u001b[0m\u001b[1;33m(\u001b[0m\u001b[0msolve_f1_diff2\u001b[0m\u001b[1;33m)\u001b[0m \u001b[1;33m==\u001b[0m \u001b[1;36m1\u001b[0m\u001b[1;33m:\u001b[0m\u001b[1;33m\u001b[0m\u001b[1;33m\u001b[0m\u001b[0m\n\u001b[0;32m     12\u001b[0m                 \u001b[0mT_krit\u001b[0m \u001b[1;33m=\u001b[0m \u001b[0mi\u001b[0m\u001b[1;33m\u001b[0m\u001b[1;33m\u001b[0m\u001b[0m\n",
      "\u001b[1;31mNameError\u001b[0m: name 'θ' is not defined"
     ]
    }
   ],
   "source": [
    "'''h = 2 #шаг\n",
    "for i in range(100, 200, h):\n",
    "    T = i\n",
    "    if f1_diff1 == 0:\n",
    "        continue\n",
    "    else:\n",
    "        if f1_diff2 == 0:\n",
    "            continue\n",
    "        else:\n",
    "            solve_f1_diff2 = sym.solve(f1_diff2, θ)\n",
    "            if len(solve_f1_diff2) == 1:\n",
    "                T_krit = i\n",
    "                break\n",
    "            else:\n",
    "                T_under_krit = i\n",
    "                for k in range (i-h, i, 0.1):\n",
    "                    T = k\n",
    "                    solve_f1_diff2 = sym.solve(f1_diff2, θ)\n",
    "                    if solve_f1_diff2 == 0:\n",
    "                        continue\n",
    "                    elif len(solve_f1_diff2) == 1:\n",
    "                        T_krit = k\n",
    "                        break\n",
    "                    elif len(solve_f1_diff2) == 2:\n",
    "                        T_under_krit = k\n",
    "                        \n",
    "'''"
   ]
  },
  {
   "cell_type": "code",
   "execution_count": 47,
   "id": "920f3cde",
   "metadata": {},
   "outputs": [
    {
     "data": {
      "text/plain": [
       "'\\nh = 2\\nfor i in range(100, 200, h):\\n    T = i\\n    if f1_diff1 == 0:\\n        continue\\n    else:\\n        if f1_diff2 == 0:\\n            continue\\n        else:\\n            solve_f1_diff2 = sym.solve(f1_diff2, θ)\\n            if len(solve_f1_diff2) == 1:\\n                T_krit = i\\n                break\\n            else:\\n                T_under_krit = i\\n                for k in range (i-h, i, 0.1):\\n                    T = k\\n                    solve_f1_diff2 = sym.solve(f1_diff2, θ)\\n                    if solve_f1_diff2 == 0:\\n                        continue\\n                    elif len(solve_f1_diff2) == 1:\\n                        T_krit = k\\n                        break\\n                    elif len(solve_f1_diff2) == 2:\\n                        T_under_krit = k\\n        \\n'"
      ]
     },
     "execution_count": 47,
     "metadata": {},
     "output_type": "execute_result"
    }
   ],
   "source": [
    "'''\n",
    "h = 2\n",
    "for i in range(100, 200, h):\n",
    "    T = i\n",
    "    if f1_diff1 == 0:\n",
    "        continue\n",
    "    else:\n",
    "        if f1_diff2 == 0:\n",
    "            continue\n",
    "        else:\n",
    "            solve_f1_diff2 = sym.solve(f1_diff2, θ)\n",
    "            if len(solve_f1_diff2) == 1:\n",
    "                T_krit = i\n",
    "                break\n",
    "            else:\n",
    "                T_under_krit = i\n",
    "                for k in range (i-h, i, 0.1):\n",
    "                    T = k\n",
    "                    solve_f1_diff2 = sym.solve(f1_diff2, θ)\n",
    "                    if solve_f1_diff2 == 0:\n",
    "                        continue\n",
    "                    elif len(solve_f1_diff2) == 1:\n",
    "                        T_krit = k\n",
    "                        break\n",
    "                    elif len(solve_f1_diff2) == 2:\n",
    "                        T_under_krit = k\n",
    "        \n",
    "''' \n"
   ]
  }
 ],
 "metadata": {
  "kernelspec": {
   "display_name": "Python 3",
   "language": "python",
   "name": "python3"
  },
  "language_info": {
   "codemirror_mode": {
    "name": "ipython",
    "version": 3
   },
   "file_extension": ".py",
   "mimetype": "text/x-python",
   "name": "python",
   "nbconvert_exporter": "python",
   "pygments_lexer": "ipython3",
   "version": "3.8.8"
  }
 },
 "nbformat": 4,
 "nbformat_minor": 5
}
