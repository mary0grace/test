{
 "cells": [
  {
   "cell_type": "code",
   "execution_count": 21,
   "id": "5ad16216",
   "metadata": {},
   "outputs": [],
   "source": [
    "# Подключение пакетов:\n",
    "import numpy as np #работа с массивами\n",
    "import matplotlib.pyplot as plt #графики\n",
    "import sympy as sym # для нахождения производной\n",
    "# Инициализация отображения графиков в блокноте:\n",
    "%matplotlib inline \n"
   ]
  },
  {
   "cell_type": "code",
   "execution_count": 25,
   "id": "7ee24b90",
   "metadata": {},
   "outputs": [],
   "source": [
    "# Задаем диапазон изменения независимой переменной:\n",
    "θ = sym.Symbol('θ')\n",
    "#Объявление переменных:\n",
    "ε_AA = 238 # кал/моль\n",
    "σ_AA = 3.4 # Ангстрем - диаметр жёсткой сферы молекулы\n",
    "r = 2**(1/6)*σ_AA\n",
    "ε = 4*ε_AA*((σ_AA/r)**6-(σ_AA/r)**12)\n",
    "R = 2 # кал/(моль*К) - газовая постоянная для ...\n",
    "T_kr = 146.6 # К - критическая температура\n",
    "T = 146 # начальное значение температуры\n",
    "z_1 = 6\n",
    "z_2 = 12\n",
    "β = (R*T)**(-1)\n",
    "x = np.exp(-β*ε)-1\n",
    "δ = 1+x*(1-2*θ)\n",
    "b = (δ**2 + 4*x*θ**2)**(1/2)\n",
    "t = 2*θ/(δ+b)\n",
    "Λ_1 = (1+t*x)**z_1\n",
    "Λ_2 = (1+t*x)**z_2\n",
    "\n",
    "f_1 = θ*(1+2*θ*x/(1+x*(1-2*θ)+((1+x*(1-2*θ))**2+4*x*θ**2)**0.5))**z_1/(1-θ)\n",
    "f_1_deriv_1 = sym.diff(f_1, θ, 1)\n",
    "f_1_deriv_2 = sym.diff(f_1, θ, 2)"
   ]
  },
  {
   "cell_type": "code",
   "execution_count": null,
   "id": "3f4e5300",
   "metadata": {},
   "outputs": [],
   "source": []
  },
  {
   "cell_type": "code",
   "execution_count": null,
   "id": "0158e163",
   "metadata": {},
   "outputs": [],
   "source": []
  }
 ],
 "metadata": {
  "kernelspec": {
   "display_name": "Python 3",
   "language": "python",
   "name": "python3"
  },
  "language_info": {
   "codemirror_mode": {
    "name": "ipython",
    "version": 3
   },
   "file_extension": ".py",
   "mimetype": "text/x-python",
   "name": "python",
   "nbconvert_exporter": "python",
   "pygments_lexer": "ipython3",
   "version": "3.8.8"
  }
 },
 "nbformat": 4,
 "nbformat_minor": 5
}
