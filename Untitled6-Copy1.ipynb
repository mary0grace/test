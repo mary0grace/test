{
 "cells": [
  {
   "cell_type": "code",
   "execution_count": 13,
   "id": "6696bd9d",
   "metadata": {},
   "outputs": [
    {
     "data": {
      "text/plain": [
       "[0, -sqrt(10)*I/10, sqrt(10)*I/10]"
      ]
     },
     "execution_count": 13,
     "metadata": {},
     "output_type": "execute_result"
    }
   ],
   "source": [
    "import math\n",
    "# Импортируем из SciPy функцию для численного определения\n",
    "# производной derivative\n",
    "from scipy.misc import derivative \n",
    "import pylab #пакет Matplotlib\n",
    "from matplotlib import mlab\n",
    "import sympy as sym # для нахождения производной\n",
    "\n",
    "\n",
    "\n",
    "f1 = 10*T**3+T\n",
    "T = sym.Symbol('T')\n",
    "sym.solve(f1, T)"
   ]
  }
 ],
 "metadata": {
  "kernelspec": {
   "display_name": "Python 3",
   "language": "python",
   "name": "python3"
  },
  "language_info": {
   "codemirror_mode": {
    "name": "ipython",
    "version": 3
   },
   "file_extension": ".py",
   "mimetype": "text/x-python",
   "name": "python",
   "nbconvert_exporter": "python",
   "pygments_lexer": "ipython3",
   "version": "3.8.8"
  }
 },
 "nbformat": 4,
 "nbformat_minor": 5
}
