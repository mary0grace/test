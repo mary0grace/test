{
 "cells": [
  {
   "cell_type": "code",
   "execution_count": 1,
   "id": "f0fa0025",
   "metadata": {},
   "outputs": [],
   "source": [
    "import numpy as np # linear algebra\n",
    "import matplotlib.pyplot as plt\n",
    "import sympy as sp #limits\n"
   ]
  },
  {
   "cell_type": "code",
   "execution_count": 2,
   "id": "31ec68db",
   "metadata": {},
   "outputs": [
    {
     "name": "stdout",
     "output_type": "stream",
     "text": [
      "θ*(2*θ*(-1 + exp(-119.0/T))/((-1 + exp(-119.0/T))*(1 - 2*θ) + (θ**2*(-4 + 4*exp(-119.0/T)) + ((-1 + exp(-119.0/T))*(1 - 2*θ) + 1)**2)**0.5 + 1) + 1)**6/(1 - θ)\n",
      "0.0780816660011533\n"
     ]
    }
   ],
   "source": [
    "\n",
    "\n",
    "#Объявление переменных:\n",
    "ε_AA = 238 # кал/моль\n",
    "σ_AA = 3.4 # Ангстрем - диаметр жёсткой сферы молекулы\n",
    "r = 2**(1/6)*σ_AA\n",
    "ε = 4*ε_AA*((σ_AA/r)**6-(σ_AA/r)**12)\n",
    "R = 2 # кал/(моль*К) - газовая постоянная \n",
    "T_kr = 146.6 # К - критическая температура\n",
    "#T = 146.6 # начальное значение температуры\n",
    "z_1 = 6\n",
    "z_2 = 12\n",
    "#β = (R*T)**(-1)\n",
    "#x = np.exp(-β*ε)-1\n",
    "#δ = 1+x*(1-2*θ)\n",
    "#b = (δ**2 + 4*x*θ**2)**(1/2)\n",
    "#t = 2*θ/(δ+b)\n",
    "#Λ_1 = (1+t*x)**z_1\n",
    "#Λ_2 = (1+t*x)**z_2\n",
    "\n",
    "def f1(θ, T):\n",
    "    return θ*(1+2*θ*(sp.exp(-(R*T)**(-1)*ε)-1)/(1+(sp.exp(-(R*T)**(-1)*ε)-1)*(1-2*θ)+((1+(sp.exp(-(R*T)**(-1)*ε)-1)*(1-2*θ))**2+4*(sp.exp(-(R*T)**(-1)*ε)-1)*θ**2)**0.5))**z_1/(1-θ)\n",
    "\n",
    "f1_sym=f1(sp.Symbol('θ'),sp.Symbol('T'))\n",
    "\n",
    "#θ = sp.Symbol('θ')\n",
    "#T = sp.Symbol('T')\n",
    "\n",
    "#f1 = θ*(1+2*θ*(np.exp(-(R*T)**(-1)*ε)-1)/(1+(np.exp(-(R*T)**(-1)*ε)-1)*(1-2*θ)+((1+(np.exp(-(R*T)**(-1)*ε)-1)*(1-2*θ))**2+4*(np.exp(-(R*T)**(-1)*ε)-1)*θ**2)**0.5))**z_1/(1-θ)\n",
    "#sp.simplify(f1_sym)\n",
    "#f1_diff1_θ = f1.subs([(T, 100),(θ, 0.5)])\n",
    "\n",
    "%matplotlib inline\n",
    "#sp.plot(f1, (θ, 0, 1)); \n",
    "#sp.plot(f1 , xlim = [0,0.999], ylim=[0,0.3])\n",
    "\n",
    "print(f1_sym)\n",
    "print(f1(0.5,140))\n"
   ]
  },
  {
   "cell_type": "code",
   "execution_count": 3,
   "id": "092dec6a",
   "metadata": {},
   "outputs": [
    {
     "ename": "NameError",
     "evalue": "name 'θ' is not defined",
     "output_type": "error",
     "traceback": [
      "\u001b[1;31m---------------------------------------------------------------------------\u001b[0m",
      "\u001b[1;31mNameError\u001b[0m                                 Traceback (most recent call last)",
      "\u001b[1;32m<ipython-input-3-12ad19e31d10>\u001b[0m in \u001b[0;36m<module>\u001b[1;34m\u001b[0m\n\u001b[1;32m----> 1\u001b[1;33m \u001b[0mf1_diff1\u001b[0m \u001b[1;33m=\u001b[0m \u001b[0msp\u001b[0m\u001b[1;33m.\u001b[0m\u001b[0mdiff\u001b[0m\u001b[1;33m(\u001b[0m\u001b[1;33m(\u001b[0m\u001b[0mf1\u001b[0m\u001b[1;33m)\u001b[0m\u001b[1;33m,\u001b[0m \u001b[0mθ\u001b[0m\u001b[1;33m,\u001b[0m \u001b[1;36m1\u001b[0m\u001b[1;33m)\u001b[0m\u001b[1;33m\u001b[0m\u001b[1;33m\u001b[0m\u001b[0m\n\u001b[0m\u001b[0;32m      2\u001b[0m \u001b[0mf1_diff2\u001b[0m \u001b[1;33m=\u001b[0m \u001b[0msp\u001b[0m\u001b[1;33m.\u001b[0m\u001b[0mdiff\u001b[0m\u001b[1;33m(\u001b[0m\u001b[1;33m(\u001b[0m\u001b[0mf1\u001b[0m\u001b[1;33m)\u001b[0m\u001b[1;33m,\u001b[0m \u001b[0mθ\u001b[0m\u001b[1;33m,\u001b[0m \u001b[1;36m2\u001b[0m\u001b[1;33m)\u001b[0m\u001b[1;33m\u001b[0m\u001b[1;33m\u001b[0m\u001b[0m\n\u001b[0;32m      3\u001b[0m \u001b[1;33m\u001b[0m\u001b[0m\n\u001b[0;32m      4\u001b[0m \u001b[1;33m\u001b[0m\u001b[0m\n\u001b[0;32m      5\u001b[0m \u001b[1;33m\u001b[0m\u001b[0m\n",
      "\u001b[1;31mNameError\u001b[0m: name 'θ' is not defined"
     ]
    }
   ],
   "source": [
    "f1_diff1 = sp.diff((f1), θ, 1)\n",
    "f1_diff2 = sp.diff((f1), θ, 2)\n",
    "\n",
    "\n",
    "\n",
    "\n",
    "f1_np = sp.lambdify(θ, f1, 'numpy') #делаю лямбда функцию\n",
    "f1_diff1_np = sp.lambdify(θ, f1_diff1, 'numpy')\n",
    "f1_diff2_np = sp.lambdify(θ, f1_diff2, 'numpy')\n",
    "\n",
    "θ1 = np.arange(0.001, 0.999, 0.002)\n",
    "f1_np(θ1)\n",
    "#источник https://docs.sympy.org/latest/modules/utilities/lambdify.html\n",
    "plt.axis([None, None, -0.02, 0.3])\n",
    "\n",
    "plt.plot(θ1, f1_np(θ1))\n",
    "plt.plot(θ1, f1_diff1_np(θ1))\n",
    "plt.plot(θ1, f1_diff2_np(θ1))\n",
    "\n",
    "#print(f1_plt)\n",
    "#print(f1_diff1_θ)\n",
    "\n",
    "#методика нахождения тангенса\n",
    "#1 sp.diff -> subs(teta, o.5) "
   ]
  },
  {
   "cell_type": "code",
   "execution_count": null,
   "id": "1a180446",
   "metadata": {},
   "outputs": [],
   "source": [
    "print(f1_np)"
   ]
  },
  {
   "cell_type": "code",
   "execution_count": null,
   "id": "417be0a4",
   "metadata": {},
   "outputs": [],
   "source": [
    "solve(y_diff1, x)"
   ]
  },
  {
   "cell_type": "code",
   "execution_count": null,
   "id": "b9c6f885",
   "metadata": {},
   "outputs": [],
   "source": []
  },
  {
   "cell_type": "code",
   "execution_count": null,
   "id": "d785bcc0",
   "metadata": {},
   "outputs": [],
   "source": []
  }
 ],
 "metadata": {
  "kernelspec": {
   "display_name": "Python 3",
   "language": "python",
   "name": "python3"
  },
  "language_info": {
   "codemirror_mode": {
    "name": "ipython",
    "version": 3
   },
   "file_extension": ".py",
   "mimetype": "text/x-python",
   "name": "python",
   "nbconvert_exporter": "python",
   "pygments_lexer": "ipython3",
   "version": "3.8.8"
  }
 },
 "nbformat": 4,
 "nbformat_minor": 5
}
