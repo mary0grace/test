{
 "cells": [
  {
   "cell_type": "code",
   "execution_count": 1,
   "id": "9fc07ca6",
   "metadata": {},
   "outputs": [],
   "source": [
    "import sympy as sym"
   ]
  },
  {
   "cell_type": "code",
   "execution_count": 2,
   "id": "b935e6f1",
   "metadata": {},
   "outputs": [
    {
     "data": {
      "text/latex": [
       "$\\displaystyle - \\operatorname{atan}{\\left(\\frac{1}{x} \\right)} - \\operatorname{atan}{\\left(0.588235294117647 x \\right)} + \\frac{\\pi}{2}$"
      ],
      "text/plain": [
       "-atan(1/x) - atan(0.588235294117647*x) + pi/2"
      ]
     },
     "execution_count": 2,
     "metadata": {},
     "output_type": "execute_result"
    }
   ],
   "source": [
    "x = sym.Symbol('x')\n",
    "alpha = sym.pi/2 - sym.atan(x/1.7) - sym.atan(1/x) # аналитическое решение функции\n",
    "alpha"
   ]
  },
  {
   "cell_type": "code",
   "execution_count": 3,
   "id": "c467c309",
   "metadata": {
    "scrolled": true
   },
   "outputs": [
    {
     "data": {
      "text/latex": [
       "$\\displaystyle - \\frac{0.588235294117647}{0.346020761245675 x^{2} + 1} + \\frac{1}{x^{2} \\left(1 + \\frac{1}{x^{2}}\\right)}$"
      ],
      "text/plain": [
       "-0.588235294117647/(0.346020761245675*x**2 + 1) + 1/(x**2*(1 + x**(-2)))"
      ]
     },
     "execution_count": 3,
     "metadata": {},
     "output_type": "execute_result"
    }
   ],
   "source": [
    "alpha_deriv_1 = sym.diff(alpha, x, 1)\n",
    "alpha_deriv_1"
   ]
  },
  {
   "cell_type": "code",
   "execution_count": 4,
   "id": "735f1bb9",
   "metadata": {},
   "outputs": [
    {
     "data": {
      "text/latex": [
       "$\\displaystyle \\frac{0.411764705882353 - 0.242214532871972 x^{2}}{\\left(0.346020761245675 x^{2} + 1\\right) \\left(x^{2} + 1\\right)}$"
      ],
      "text/plain": [
       "(0.411764705882353 - 0.242214532871972*x**2)/((0.346020761245675*x**2 + 1)*(x**2 + 1))"
      ]
     },
     "execution_count": 4,
     "metadata": {},
     "output_type": "execute_result"
    }
   ],
   "source": [
    "sym.simplify(alpha_deriv_1) # Привели к общему знаменателю"
   ]
  },
  {
   "cell_type": "code",
   "execution_count": 5,
   "id": "354ed4e4",
   "metadata": {},
   "outputs": [
    {
     "data": {
      "text/plain": [
       "[-1.30384048104053, 1.30384048104053]"
      ]
     },
     "execution_count": 5,
     "metadata": {},
     "output_type": "execute_result"
    }
   ],
   "source": [
    "sym.solve(alpha_deriv_1, x)"
   ]
  },
  {
   "cell_type": "code",
   "execution_count": 6,
   "id": "3da05d2d",
   "metadata": {},
   "outputs": [
    {
     "data": {
      "text/latex": [
       "$\\displaystyle \\frac{0.407083248524323 x}{\\left(0.346020761245675 x^{2} + 1\\right)^{2}} - \\frac{2}{x^{3} \\left(1 + \\frac{1}{x^{2}}\\right)} + \\frac{2}{x^{5} \\left(1 + \\frac{1}{x^{2}}\\right)^{2}}$"
      ],
      "text/plain": [
       "0.407083248524323*x/(0.346020761245675*x**2 + 1)**2 - 2/(x**3*(1 + x**(-2))) + 2/(x**5*(1 + x**(-2))**2)"
      ]
     },
     "execution_count": 6,
     "metadata": {},
     "output_type": "execute_result"
    }
   ],
   "source": [
    "alpha_deriv_2 = sym.diff(alpha, x, 2)\n",
    "alpha_deriv_2"
   ]
  },
  {
   "cell_type": "code",
   "execution_count": 7,
   "id": "658a98ef",
   "metadata": {},
   "outputs": [
    {
     "data": {
      "text/plain": [
       "[-2.28481274917868, 2.28481274917868, -1.34921062062579*I, 1.34921062062579*I]"
      ]
     },
     "execution_count": 7,
     "metadata": {},
     "output_type": "execute_result"
    }
   ],
   "source": [
    "sym.solve(alpha_deriv_2, x)"
   ]
  },
  {
   "cell_type": "code",
   "execution_count": 8,
   "id": "433cc65e",
   "metadata": {},
   "outputs": [
    {
     "ename": "SyntaxError",
     "evalue": "invalid syntax (<ipython-input-8-af3e58963457>, line 1)",
     "output_type": "error",
     "traceback": [
      "\u001b[1;36m  File \u001b[1;32m\"<ipython-input-8-af3e58963457>\"\u001b[1;36m, line \u001b[1;32m1\u001b[0m\n\u001b[1;33m    if alpha_deriv_2 != 0\u001b[0m\n\u001b[1;37m                          ^\u001b[0m\n\u001b[1;31mSyntaxError\u001b[0m\u001b[1;31m:\u001b[0m invalid syntax\n"
     ]
    }
   ],
   "source": [
    "if alpha_deriv_2 != 0 "
   ]
  },
  {
   "cell_type": "code",
   "execution_count": null,
   "id": "38678c81",
   "metadata": {},
   "outputs": [],
   "source": []
  }
 ],
 "metadata": {
  "kernelspec": {
   "display_name": "Python 3",
   "language": "python",
   "name": "python3"
  },
  "language_info": {
   "codemirror_mode": {
    "name": "ipython",
    "version": 3
   },
   "file_extension": ".py",
   "mimetype": "text/x-python",
   "name": "python",
   "nbconvert_exporter": "python",
   "pygments_lexer": "ipython3",
   "version": "3.8.8"
  }
 },
 "nbformat": 4,
 "nbformat_minor": 5
}
