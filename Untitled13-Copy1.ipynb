{
 "cells": [
  {
   "cell_type": "code",
   "execution_count": 1,
   "id": "b59e7864",
   "metadata": {},
   "outputs": [],
   "source": [
    "import numpy as np \n",
    "import matplotlib.pyplot as plt\n",
    "import sympy as sp\n",
    "import scipy.optimize as opt \n",
    "from scipy import integrate as ig\n",
    "\n",
    "%matplotlib inline "
   ]
  },
  {
   "cell_type": "code",
   "execution_count": 2,
   "id": "d5bbc3d8",
   "metadata": {},
   "outputs": [],
   "source": [
    "θ = sp.Symbol('θ')\n",
    "T = sp.Symbol ('T')\n",
    "\n",
    "ε_AA = 238 # кал/моль\n",
    "σ_AA = 3.4 # Ангстрем - диаметр жёсткой сферы молекулы\n",
    "r = 2**(1/6)*σ_AA\n",
    "ε = 4*ε_AA*((σ_AA/r)**6-(σ_AA/r)**12)\n",
    "R = 2 # кал/(моль*К) - газовая постоянная \n",
    "T_kr = 146.6 # К - критическая температура\n",
    "#T = 146.6 # начальное значение температуры\n",
    "z_1 = 6\n",
    "z_2 = 12\n",
    "\n",
    "f1 = θ*(1+2*θ*(sp.exp(-(R*T)**(-1)*ε)-1)/(1+(sp.exp(-(R*T)**(-1)*ε)-1)*(1-2*θ)+((1+(sp.exp(-(R*T)**(-1)*ε)-1)*(1-2*θ))**2+4*(sp.exp(-(R*T)**(-1)*ε)-1)*θ**2)**0.5))**z_1/(1-θ)\n",
    "f2 = θ*(1+2*θ*(sp.exp(-(R*T)**(-1)*ε)-1)/(1+(sp.exp(-(R*T)**(-1)*ε)-1)*(1-2*θ)+((1+(sp.exp(-(R*T)**(-1)*ε)-1)*(1-2*θ))**2+4*(sp.exp(-(R*T)**(-1)*ε)-1)*θ**2)**0.5))**z_2/(1-θ)\n"
   ]
  },
  {
   "cell_type": "code",
   "execution_count": 3,
   "id": "28e6a29e",
   "metadata": {},
   "outputs": [
    {
     "data": {
      "text/plain": [
       "<matplotlib.legend.Legend at 0x1bce3d15d60>"
      ]
     },
     "execution_count": 3,
     "metadata": {},
     "output_type": "execute_result"
    },
    {
     "data": {
      "image/png": "[encoded data removed]",
      "text/plain": [
       "<Figure size 432x288 with 1 Axes>"
      ]
     },
     "metadata": {
      "needs_background": "light"
     },
     "output_type": "display_data"
    }
   ],
   "source": [
    "θ1 = np.arange(0.001, 0.999, 0.002)\n",
    "\n",
    "f1_n = sp.lambdify([θ, T], f1)\n",
    "f2_n = sp.lambdify([θ, T], f2)\n",
    "\n",
    "\n",
    "Ti=146\n",
    "plt.plot(θ1, f1_n(θ1, Ti), label='T=146') #простая команда для создания графика\n",
    "\n",
    "Ti=100\n",
    "plt.plot(θ1, f1_n(θ1, Ti), label='T=100')\n",
    "\n",
    "Ti=50\n",
    "plt.plot(θ1, f1_n(θ1, Ti), label='T=50')\n",
    "\n",
    "Ti=150\n",
    "plt.plot(θ1, f1_n(θ1, Ti), label='T=150')\n",
    "\n",
    "Ti=200\n",
    "plt.plot(θ1, f1_n(θ1, Ti), label='T=200')\n",
    "\n",
    "# ссылка про функции https://pythonworld.ru/tipy-dannyx-v-python/vse-o-funkciyax-i-ix-argumentax.html\n",
    "plt.axis([None, None, 0, 0.3]) # задаю пределы оси ординат\n",
    "plt.legend()"
   ]
  },
  {
   "cell_type": "code",
   "execution_count": null,
   "id": "667b2530",
   "metadata": {},
   "outputs": [],
   "source": []
  },
  {
   "cell_type": "code",
   "execution_count": 4,
   "id": "7e048caf",
   "metadata": {},
   "outputs": [],
   "source": [
    "f1_diff1 = f1.diff(θ)\n",
    "f2_diff1 = f2.diff(θ)"
   ]
  },
  {
   "cell_type": "code",
   "execution_count": 5,
   "id": "9f7a345d",
   "metadata": {},
   "outputs": [
    {
     "name": "stdout",
     "output_type": "stream",
     "text": [
      "1470 1460 146\n",
      "T: 147.0 , f`(θ): 0.000496144810299304\n",
      "T: 146.9 , f`(θ): 0.000301200804939061\n",
      "T: 146.8 , f`(θ): 0.000106688705122759\n",
      "T: 146.7 , f`(θ): -8.73910606318251e-5\n",
      "146.7\n"
     ]
    }
   ],
   "source": [
    "h1 = -1 #шаг\n",
    "T_krit1, T_krit2, T_test, T_test1, Tk = 1,2, 3, 4, 0\n",
    "\n",
    "for i in np.arange(400, 100, h1):\n",
    "    flag = False\n",
    "    Ti = i\n",
    "    f1_diff1_θ = f1_diff1.subs([(T,Ti),(θ, 0.5)])\n",
    "    if f1_diff1_θ > 0:\n",
    "        T_test1\n",
    "        continue\n",
    "    elif f1_diff1_θ < 0 or f1_diff1_θ == 0:\n",
    "        if f1_diff1_θ == 0:\n",
    "            T_krit1 = i\n",
    "            flag = True\n",
    "            break\n",
    "        else:\n",
    "            T_test = i\n",
    "    \n",
    "            k1 = 10*(i-h1)\n",
    "            k2 = 10*(i)\n",
    "            h2 = -1\n",
    "            print(k1,k2,i)\n",
    "            for k in np.arange(k1, k2, h2):\n",
    "                Tk=k/10\n",
    "                f1_diff1_θ = f1_diff1.subs([(T,Tk),(θ, 0.5)])\n",
    "                print('T:',Tk,', f`(θ):',f1_diff1_θ)\n",
    "                if f1_diff1_θ > 0:\n",
    "                    continue\n",
    "                else:\n",
    "                    T_krit2 = k/10\n",
    "                    flag = True\n",
    "                    break\n",
    "            \n",
    "    if flag == True:\n",
    "        break\n",
    "\n",
    "\n",
    "print(T_krit2)\n",
    "\n"
   ]
  },
  {
   "cell_type": "code",
   "execution_count": 6,
   "id": "42d039b7",
   "metadata": {},
   "outputs": [
    {
     "name": "stdout",
     "output_type": "stream",
     "text": [
      "3270 3260 326\n",
      "T: 327.0 , f`(θ): 0.000821062099636505\n",
      "T: 326.9 , f`(θ): 0.000695152318938519\n",
      "T: 326.8 , f`(θ): 0.000569340392826689\n",
      "T: 326.7 , f`(θ): 0.000443626389046492\n",
      "T: 326.6 , f`(θ): 0.000318010375344957\n",
      "T: 326.5 , f`(θ): 0.000192492419472112\n",
      "T: 326.4 , f`(θ): 6.70725891783741e-5\n",
      "T: 326.3 , f`(θ): -5.82490477831765e-5\n",
      "326.3\n"
     ]
    }
   ],
   "source": [
    "h1 = -1 #шаг\n",
    "T2_krit1, T2_krit2, T2_test, T2_test1, Tk2 = 1,2, 3, 4, 0\n",
    "\n",
    "for i in np.arange(400, 100, h1):\n",
    "    flag = False\n",
    "    Ti = i\n",
    "    f2_diff1_θ = f2_diff1.subs([(T,Ti),(θ, 0.5)])\n",
    "    if f2_diff1_θ > 0:\n",
    "        T2_test1\n",
    "        continue\n",
    "    elif f2_diff1_θ < 0 or f2_diff1_θ == 0:\n",
    "        if f2_diff1_θ == 0:\n",
    "            T2_krit1 = i\n",
    "            flag = True\n",
    "            break\n",
    "        else:\n",
    "            T2_test = i\n",
    "    \n",
    "            k1 = 10*(i-h1)\n",
    "            k2 = 10*(i)\n",
    "            h2 = -1\n",
    "            print(k1,k2,i)\n",
    "            for k in np.arange(k1, k2, h2):\n",
    "                Tk=k/10\n",
    "                f2_diff1_θ = f2_diff1.subs([(T,Tk),(θ, 0.5)])\n",
    "                print('T:',Tk,', f`(θ):',f2_diff1_θ)\n",
    "                if f2_diff1_θ > 0:\n",
    "                    continue\n",
    "                else:\n",
    "                    T2_krit2 = k/10\n",
    "                    flag = True\n",
    "                    break\n",
    "            \n",
    "    if flag == True:\n",
    "        break\n",
    "\n",
    "\n",
    "print(T2_krit2)\n",
    "\n"
   ]
  },
  {
   "cell_type": "code",
   "execution_count": 13,
   "id": "51d9cd54",
   "metadata": {},
   "outputs": [
    {
     "data": {
      "text/plain": [
       "<matplotlib.legend.Legend at 0x1bce53349a0>"
      ]
     },
     "execution_count": 13,
     "metadata": {},
     "output_type": "execute_result"
    },
    {
     "data": {
      "image/png": "[encoded data removed]",
      "text/plain": [
       "<Figure size 432x288 with 1 Axes>"
      ]
     },
     "metadata": {
      "needs_background": "light"
     },
     "output_type": "display_data"
    }
   ],
   "source": [
    "plt.plot(θ1, f1_n(θ1, T_krit2), label=('Ткрит при z=6 = '+str(T_krit2) + ' K'))\n",
    "plt.plot(θ1, f2_n(θ1, T2_krit2), label=('Ткрит при z=12 = '+str(T2_krit2)+' K'))\n",
    "plt.axis([None, None, 0, 0.3])\n",
    "plt.legend()"
   ]
  },
  {
   "cell_type": "code",
   "execution_count": 8,
   "id": "041acf75",
   "metadata": {},
   "outputs": [
    {
     "data": {
      "text/plain": [
       "'T1i=100\\nfL1 = lambda θ, T=T1i :  θ*(1+2*θ*(sp.exp(-(R*T)**(-1)*ε)-1)/(1+(sp.exp(-(R*T)**(-1)*ε)-1)*(1-2*θ)+((1+(sp.exp(-(R*T)**(-1)*ε)-1)*(1-2*θ))**2+4*(sp.exp(-(R*T)**(-1)*ε)-1)*θ**2)**0.5))**z_1/(1-θ)\\nfL1_minus = lambda θ, T=Ti : -(θ*(1+2*θ*(sp.exp(-(R*T)**(-1)*ε)-1)/(1+(sp.exp(-(R*T)**(-1)*ε)-1)*(1-2*θ)+((1+(sp.exp(-(R*T)**(-1)*ε)-1)*(1-2*θ))**2+4*(sp.exp(-(R*T)**(-1)*ε)-1)*θ**2)**0.5))**z_1/(1-θ))\\n\\nT2i=200\\nfL2 = lambda θ, T=T2i : θ*(1+2*θ*(sp.exp(-(R*T)**(-1)*ε)-1)/(1+(sp.exp(-(R*T)**(-1)*ε)-1)*(1-2*θ)+((1+(sp.exp(-(R*T)**(-1)*ε)-1)*(1-2*θ))**2+4*(sp.exp(-(R*T)**(-1)*ε)-1)*θ**2)**0.5))**z_2/(1-θ)\\nfL2_minus = lambda θ, T=Ti : -(θ*(1+2*θ*(sp.exp(-(R*T)**(-1)*ε)-1)/(1+(sp.exp(-(R*T)**(-1)*ε)-1)*(1-2*θ)+((1+(sp.exp(-(R*T)**(-1)*ε)-1)*(1-2*θ))**2+4*(sp.exp(-(R*T)**(-1)*ε)-1)*θ**2)**0.5))**z_2/(1-θ))\\n'"
      ]
     },
     "execution_count": 8,
     "metadata": {},
     "output_type": "execute_result"
    }
   ],
   "source": [
    "'''T1i=100\n",
    "fL1 = lambda θ, T=T1i :  θ*(1+2*θ*(sp.exp(-(R*T)**(-1)*ε)-1)/(1+(sp.exp(-(R*T)**(-1)*ε)-1)*(1-2*θ)+((1+(sp.exp(-(R*T)**(-1)*ε)-1)*(1-2*θ))**2+4*(sp.exp(-(R*T)**(-1)*ε)-1)*θ**2)**0.5))**z_1/(1-θ)\n",
    "fL1_minus = lambda θ, T=Ti : -(θ*(1+2*θ*(sp.exp(-(R*T)**(-1)*ε)-1)/(1+(sp.exp(-(R*T)**(-1)*ε)-1)*(1-2*θ)+((1+(sp.exp(-(R*T)**(-1)*ε)-1)*(1-2*θ))**2+4*(sp.exp(-(R*T)**(-1)*ε)-1)*θ**2)**0.5))**z_1/(1-θ))\n",
    "\n",
    "T2i=200\n",
    "fL2 = lambda θ, T=T2i : θ*(1+2*θ*(sp.exp(-(R*T)**(-1)*ε)-1)/(1+(sp.exp(-(R*T)**(-1)*ε)-1)*(1-2*θ)+((1+(sp.exp(-(R*T)**(-1)*ε)-1)*(1-2*θ))**2+4*(sp.exp(-(R*T)**(-1)*ε)-1)*θ**2)**0.5))**z_2/(1-θ)\n",
    "fL2_minus = lambda θ, T=Ti : -(θ*(1+2*θ*(sp.exp(-(R*T)**(-1)*ε)-1)/(1+(sp.exp(-(R*T)**(-1)*ε)-1)*(1-2*θ)+((1+(sp.exp(-(R*T)**(-1)*ε)-1)*(1-2*θ))**2+4*(sp.exp(-(R*T)**(-1)*ε)-1)*θ**2)**0.5))**z_2/(1-θ))\n",
    "'''"
   ]
  },
  {
   "cell_type": "code",
   "execution_count": 9,
   "id": "a695d99f",
   "metadata": {},
   "outputs": [],
   "source": [
    "def f1(θ):\n",
    "    return θ*(1+2*θ*(np.exp(-(R*T)**(-1)*ε)-1)/(1+(np.exp(-(R*T)**(-1)*ε)-1)*(1-2*θ)+((1+(np.exp(-(R*T)**(-1)*ε)-1)*(1-2*θ))**2+4*(np.exp(-(R*T)**(-1)*ε)-1)*θ**2)**0.5))**z_1/(1-θ)\n",
    "def f1_minus(θ):\n",
    "    return -(θ*(1+2*θ*(np.exp(-(R*T)**(-1)*ε)-1)/(1+(np.exp(-(R*T)**(-1)*ε)-1)*(1-2*θ)+((1+(np.exp(-(R*T)**(-1)*ε)-1)*(1-2*θ))**2+4*(np.exp(-(R*T)**(-1)*ε)-1)*θ**2)**0.5))**z_1/(1-θ))\n"
   ]
  },
  {
   "cell_type": "code",
   "execution_count": 10,
   "id": "4952acf6",
   "metadata": {},
   "outputs": [
    {
     "name": "stdout",
     "output_type": "stream",
     "text": [
      "[[0.5, 0.08772592332820625]]\n"
     ]
    }
   ],
   "source": [
    "phase_diagram = []\n",
    "T=T_krit2\n",
    "phase_diagram.append([0.5, f1(0.5)]) #заношу в базу первую точку фазы\n",
    "print(phase_diagram)\n",
    "\n"
   ]
  },
  {
   "cell_type": "code",
   "execution_count": 11,
   "id": "34329e50",
   "metadata": {
    "scrolled": true
   },
   "outputs": [
    {
     "name": "stdout",
     "output_type": "stream",
     "text": [
      "-----------New--------------\n",
      "********* T =120.0 ********\n",
      "max_x: 0.24365470127678632\n",
      "min_x: 0.7563453169323835\n",
      "f_max_x: 0.05806120641402232\n",
      "f_min_x: 0.044880922711805306\n",
      "f_h_maxi: -0.0019638426865375537\n",
      "[0.05806121 0.05609736 0.05413352 0.05216968 0.05020584 0.04824199\n",
      " 0.04627815]\n",
      "Lenth: 7\n",
      "---Start cycle inside---\n",
      "c: 0.05806120641402232\n",
      "g: [0.05806121 0.05806121 0.05806121 ... 0.05806121 0.05806121 0.05806121]\n",
      "idθ: [495]\n",
      "θ[idθ]: [0.0991]\n",
      "Si_old_final: 0\n",
      "Si_c: (-0.005445846947268504, 1.4314836196129034e-11)\n"
     ]
    },
    {
     "ename": "IndexError",
     "evalue": "index 2 is out of bounds for axis 0 with size 1",
     "output_type": "error",
     "traceback": [
      "\u001b[1;31m---------------------------------------------------------------------------\u001b[0m",
      "\u001b[1;31mIndexError\u001b[0m                                Traceback (most recent call last)",
      "\u001b[1;32m<ipython-input-11-5d4431bd0041>\u001b[0m in \u001b[0;36m<module>\u001b[1;34m\u001b[0m\n\u001b[0;32m     75\u001b[0m \u001b[1;33m\u001b[0m\u001b[0m\n\u001b[0;32m     76\u001b[0m \u001b[1;33m\u001b[0m\u001b[0m\n\u001b[1;32m---> 77\u001b[1;33m         \u001b[0mSi\u001b[0m \u001b[1;33m=\u001b[0m \u001b[0mig\u001b[0m\u001b[1;33m.\u001b[0m\u001b[0mquad\u001b[0m\u001b[1;33m(\u001b[0m\u001b[0mf_c\u001b[0m\u001b[1;33m,\u001b[0m \u001b[0ma\u001b[0m\u001b[1;33m=\u001b[0m\u001b[0mθ\u001b[0m\u001b[1;33m[\u001b[0m\u001b[0midθ\u001b[0m\u001b[1;33m[\u001b[0m\u001b[1;36m0\u001b[0m\u001b[1;33m]\u001b[0m\u001b[1;33m]\u001b[0m\u001b[1;33m,\u001b[0m \u001b[0mb\u001b[0m\u001b[1;33m=\u001b[0m\u001b[0mθ\u001b[0m\u001b[1;33m[\u001b[0m\u001b[0midθ\u001b[0m\u001b[1;33m[\u001b[0m\u001b[1;36m2\u001b[0m\u001b[1;33m]\u001b[0m\u001b[1;33m]\u001b[0m\u001b[1;33m)\u001b[0m\u001b[1;33m\u001b[0m\u001b[1;33m\u001b[0m\u001b[0m\n\u001b[0m\u001b[0;32m     78\u001b[0m         \u001b[0mSi_old\u001b[0m \u001b[1;33m=\u001b[0m \u001b[0mSi\u001b[0m\u001b[1;33m[\u001b[0m\u001b[1;36m0\u001b[0m\u001b[1;33m]\u001b[0m\u001b[1;33m\u001b[0m\u001b[1;33m\u001b[0m\u001b[0m\n\u001b[0;32m     79\u001b[0m \u001b[1;33m\u001b[0m\u001b[0m\n",
      "\u001b[1;31mIndexError\u001b[0m: index 2 is out of bounds for axis 0 with size 1"
     ]
    }
   ],
   "source": [
    "#T_start = T_krit2 - 1\n",
    "T_start = 120\n",
    "T_range = np.arange(T_start, 60.1, -0.1)\n",
    "\n",
    "θ = np.arange(0.0001, 0.9999, 0.0002)\n",
    "f = θ*(1+2*θ*(np.exp(-(R*T)**(-1)*ε)-1)/(1+(np.exp(-(R*T)**(-1)*ε)-1)*(1-2*θ)+((1+(np.exp(-(R*T)**(-1)*ε)-1)*(1-2*θ))**2+4*(np.exp(-(R*T)**(-1)*ε)-1)*θ**2)**0.5))**z_1/(1-θ)\n",
    "f_c = lambda θ:  -c+θ*(1+2*θ*(sp.exp(-(R*T)**(-1)*ε)-1)/(1+(sp.exp(-(R*T)**(-1)*ε)-1)*(1-2*θ)+((1+(sp.exp(-(R*T)**(-1)*ε)-1)*(1-2*θ))**2+4*(sp.exp(-(R*T)**(-1)*ε)-1)*θ**2)**0.5))**z_1/(1-θ)\n",
    "\n",
    "aP_fin = 0\n",
    "\n",
    "#c = 0\n",
    "#g = c+θ-θ\n",
    "\n",
    "flag = False\n",
    "\n",
    "for Ti in T_range: \n",
    "    print('-----------New--------------')\n",
    "    T = Ti\n",
    "    print('********* T ='+str(Ti)+' ********')\n",
    "    \n",
    "    max_x = opt.fminbound(f1_minus, 0, 0.5)\n",
    "    min_x = opt.fminbound(f1, 0.5, 1)\n",
    "    \n",
    "    print('max_x: '+str(max_x) )\n",
    "    print('min_x: '+str(min_x))\n",
    "    \n",
    "    h_maxi = 0.002 #задаю шаг\n",
    "    max_x = max_x + h_maxi\n",
    "    min_x = min_x - h_maxi\n",
    "    \n",
    "    f_h_maxi = -f1(h_maxi)\n",
    "    f_max_x = f1(max_x)\n",
    "    f_min_x = f1 (min_x)\n",
    "    \n",
    "    print('f_max_x: '+str(f_max_x) )\n",
    "    print('f_min_x: '+str(f_min_x))\n",
    "    print('f_h_maxi: '+str(f_h_maxi))\n",
    "    \n",
    "\n",
    "    rng_line = np.arange(f_max_x, f_min_x, f_h_maxi) #диапазон max и min по оси Y \n",
    "    print(rng_line)\n",
    "    print('Lenth: ' + str(len(rng_line)))\n",
    "    \n",
    "    span = np.arange(max_x, min_x, 0.0002) #диапазон max и min по оси X\n",
    "    \n",
    "    Si_old = 0\n",
    "    Si_old_final = 0 \n",
    "    Si_sum = 0\n",
    "    aP = 0\n",
    "    aP1_fin = 0\n",
    "    aP2_fin = 0\n",
    "    \n",
    "    #Пробегаюсь по участкую от max до min\n",
    "    for const in rng_line:\n",
    "        \n",
    "        f_c = lambda θ:  -c+θ*(1+2*θ*(sp.exp(-(R*T)**(-1)*ε)-1)/(1+(sp.exp(-(R*T)**(-1)*ε)-1)*(1-2*θ)+((1+(sp.exp(-(R*T)**(-1)*ε)-1)*(1-2*θ))**2+4*(sp.exp(-(R*T)**(-1)*ε)-1)*θ**2)**0.5))**z_1/(1-θ)\n",
    "\n",
    "        print('---Start cycle inside---')\n",
    "        c = const\n",
    "        g = c+θ-θ\n",
    "        print('c: ' + str(c))\n",
    "        \n",
    "        print('g: '+str(g))\n",
    "        idθ = np.argwhere(np.diff(np.sign(f - g))).flatten()\n",
    "        \n",
    "        print('idθ: '+str(idθ))\n",
    "        print('θ[idθ]: '+str(θ[idθ]))\n",
    "\n",
    "        Si_old_final = Si_old\n",
    "        \n",
    "        print('Si_old_final: '+ str(Si_old_final))\n",
    "        \n",
    "        Si_c = ig.quad(f_c, a=0.1, b=0.9)\n",
    "        print('Si_c: ' + str(Si_c))\n",
    "                \n",
    "        \n",
    "        Si = ig.quad(f_c, a=θ[idθ[0]], b=θ[idθ[2]])\n",
    "        Si_old = Si[0]\n",
    "\n",
    "        print('Si: ' + str(Si[0]))\n",
    "        \n",
    "        if Si[0] < 0:\n",
    "            print('continue')\n",
    "        else:\n",
    "            print('search aP')\n",
    "            aP = c\n",
    "            print('aP: ' + str(aP))\n",
    "            if abs(Si[0])<abs(Si_old_final):\n",
    "                aP1_fin = c\n",
    "                aP_fin = aP1_fin\n",
    "                print('aP1_fin: ' + str(aP1_fin))\n",
    "                flag == True\n",
    "                print('Flag1 == True')\n",
    "                print('break')\n",
    "                break\n",
    "            else:\n",
    "                aP2_fin = c - f_h_maxi\n",
    "                aP_fin = aP2_fin\n",
    "                print('aP2_fin: ' + str(aP2_fin))\n",
    "                flag == True\n",
    "                print('Flag2 == True')\n",
    "                print('break')\n",
    "                break\n",
    "        print('end inside')\n",
    "    print('----------------------------------------')\n",
    "    print('-----!Si_old_final: '+ str(Si_old_final))\n",
    "    print('-----!Si: ' + str(Si[0]))\n",
    "    print('-----!aP_fin: ' + str(aP_fin))\n",
    "    print('----------------------------------------')\n",
    "    #далее ищу точки пересечения найденной прямой с графиком\n",
    "    \n",
    "    '''for i in 0, 2:\n",
    "        phase_diagram.append([θ[idθ[i]], f[idθ[i]]])'''\n",
    "    print('End')\n",
    "plt.scatter(*zip(*phase_diagram))"
   ]
  },
  {
   "cell_type": "code",
   "execution_count": null,
   "id": "9f3d16f6",
   "metadata": {},
   "outputs": [],
   "source": [
    "print(rng_line)\n",
    "print(len(rng_line))"
   ]
  },
  {
   "cell_type": "code",
   "execution_count": null,
   "id": "5fba0650",
   "metadata": {},
   "outputs": [],
   "source": [
    "c = rng_line[66]\n",
    "Si = ig.quad(f_c, a=max_x, b=min_x)\n",
    "print(Si[0])"
   ]
  }
 ],
 "metadata": {
  "kernelspec": {
   "display_name": "Python 3",
   "language": "python",
   "name": "python3"
  },
  "language_info": {
   "codemirror_mode": {
    "name": "ipython",
    "version": 3
   },
   "file_extension": ".py",
   "mimetype": "text/x-python",
   "name": "python",
   "nbconvert_exporter": "python",
   "pygments_lexer": "ipython3",
   "version": "3.8.8"
  }
 },
 "nbformat": 4,
 "nbformat_minor": 5
}
